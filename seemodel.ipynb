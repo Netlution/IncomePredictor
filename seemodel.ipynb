{
 "cells": [
  {
   "cell_type": "code",
   "execution_count": 1,
   "metadata": {},
   "outputs": [
    {
     "name": "stdout",
     "output_type": "stream",
     "text": [
      "<class 'sklearn.pipeline.Pipeline'>\n",
      "\n",
      "Pipeline steps:\n",
      "- preprocessor: ColumnTransformer(transformers=[('cat',\n",
      "                                 OneHotEncoder(handle_unknown='ignore',\n",
      "                                               sparse_output=False),\n",
      "                                 ['workclass', 'education', 'occupation',\n",
      "                                  'relationship', 'race', 'sex']),\n",
      "                                ('num', 'passthrough',\n",
      "                                 ['age', 'capital-gain', 'capital-loss',\n",
      "                                  'hours-per-week'])])\n",
      "- classifier: LogisticRegression(max_iter=1000)\n",
      "\n",
      "Target classes: [' <=50K' ' >50K']\n"
     ]
    }
   ],
   "source": [
    "import joblib\n",
    "\n",
    "# Load pickle file\n",
    "model = joblib.load(\"income_model.pkl\")\n",
    "\n",
    "# Check type of object\n",
    "print(type(model))\n",
    "\n",
    "# If it's a pipeline, see the steps\n",
    "if hasattr(model, \"steps\"):\n",
    "    print(\"\\nPipeline steps:\")\n",
    "    for name, step in model.steps:\n",
    "        print(f\"- {name}: {step}\")\n",
    "\n",
    "# If it's a ColumnTransformer\n",
    "if hasattr(model, \"transformers\"):\n",
    "    print(\"\\nTransformers inside ColumnTransformer:\")\n",
    "    for name, trans, cols in model.transformers:\n",
    "        print(f\"- {name}: {trans} (columns: {cols})\")\n",
    "\n",
    "# If it's a classifier\n",
    "if hasattr(model, \"classes_\"):\n",
    "    print(\"\\nTarget classes:\", model.classes_)\n"
   ]
  },
  {
   "cell_type": "code",
   "execution_count": null,
   "metadata": {},
   "outputs": [],
   "source": []
  }
 ],
 "metadata": {
  "kernelspec": {
   "display_name": "venv (3.13.5)",
   "language": "python",
   "name": "python3"
  },
  "language_info": {
   "codemirror_mode": {
    "name": "ipython",
    "version": 3
   },
   "file_extension": ".py",
   "mimetype": "text/x-python",
   "name": "python",
   "nbconvert_exporter": "python",
   "pygments_lexer": "ipython3",
   "version": "3.13.5"
  }
 },
 "nbformat": 4,
 "nbformat_minor": 2
}
